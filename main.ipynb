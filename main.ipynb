{
  "nbformat": 4,
  "nbformat_minor": 0,
  "metadata": {
    "colab": {
      "provenance": [],
      "authorship_tag": "ABX9TyMOmniwpMCb13Yj+ppBeHEo",
      "include_colab_link": true
    },
    "kernelspec": {
      "name": "python3",
      "display_name": "Python 3"
    },
    "language_info": {
      "name": "python"
    }
  },
  "cells": [
    {
      "cell_type": "markdown",
      "metadata": {
        "id": "view-in-github",
        "colab_type": "text"
      },
      "source": [
        "<a href=\"https://colab.research.google.com/github/Manya22006/Quantum3_KALP_AI_THON/blob/main/main.ipynb\" target=\"_parent\"><img src=\"https://colab.research.google.com/assets/colab-badge.svg\" alt=\"Open In Colab\"/></a>"
      ]
    },
    {
      "cell_type": "code",
      "execution_count": 4,
      "metadata": {
        "colab": {
          "base_uri": "https://localhost:8080/"
        },
        "id": "pbcLxizVgXnR",
        "outputId": "0eaf4bdc-fdfd-484c-8e47-0d6fee0adb4a"
      },
      "outputs": [
        {
          "output_type": "stream",
          "name": "stdout",
          "text": [
            "Drive already mounted at /content/drive; to attempt to forcibly remount, call drive.mount(\"/content/drive\", force_remount=True).\n"
          ]
        }
      ],
      "source": [
        "from google.colab import drive\n",
        "drive.mount('/content/drive')"
      ]
    },
    {
      "cell_type": "code",
      "source": [
        "import os\n",
        "import cv2\n",
        "\n",
        "# ✅ Path to your dataset\n",
        "DATASET_PATH = \"/content/drive/MyDrive/kalp-ai-thon/kalp-ai-thon/DeepfakeTIMIT (1)\"\n",
        "OUTPUT_PATH = \"/content/drive/MyDrive/kalp-ai-thon/kalp-ai-thon/frames\"\n",
        "\n",
        "# Make output dirs\n",
        "os.makedirs(os.path.join(OUTPUT_PATH, \"real\"), exist_ok=True)\n",
        "os.makedirs(os.path.join(OUTPUT_PATH, \"fake\"), exist_ok=True)\n",
        "\n",
        "def extract_frames(video_path, output_folder, label, max_frames=10):\n",
        "    \"\"\"Extract frames from a video and save them as images.\"\"\"\n",
        "    cap = cv2.VideoCapture(video_path)\n",
        "    count = 0\n",
        "    saved = 0\n",
        "    while cap.isOpened() and saved < max_frames:\n",
        "        ret, frame = cap.read()\n",
        "        if not ret:\n",
        "            break\n",
        "        # Save every 5th frame to reduce redundancy\n",
        "        if count % 5 == 0:\n",
        "            frame_filename = os.path.join(output_folder, f\"{label}_{saved}.jpg\")\n",
        "            cv2.imwrite(frame_filename, frame)\n",
        "            saved += 1\n",
        "        count += 1\n",
        "    cap.release()\n",
        "\n",
        "# Loop through both fake & real folders\n",
        "for label in [\"real\", \"fake\"]:\n",
        "    folder = os.path.join(DATASET_PATH, label)\n",
        "    for file in os.listdir(folder):\n",
        "        if file.endswith(\".mp4\") or file.endswith(\".mov\"):\n",
        "            video_path = os.path.join(folder, file)\n",
        "            output_folder = os.path.join(OUTPUT_PATH, label)\n",
        "            extract_frames(video_path, output_folder, file.split('.')[0])\n",
        "            print(f\"Extracted frames from {file} → {label}\")\n"
      ],
      "metadata": {
        "colab": {
          "base_uri": "https://localhost:8080/"
        },
        "id": "tsB7I7h9ijv1",
        "outputId": "8a853217-a5e8-4ef3-bb4b-78570be077dd"
      },
      "execution_count": 11,
      "outputs": [
        {
          "output_type": "stream",
          "name": "stdout",
          "text": [
            "Extracted frames from fadg0-fram1-roi93.mov → real\n",
            "Extracted frames from fram1-original.mov → real\n",
            "Extracted frames from fadg0-original.mov → real\n"
          ]
        }
      ]
    },
    {
      "cell_type": "code",
      "source": [],
      "metadata": {
        "id": "rf64fuTHp3cN"
      },
      "execution_count": null,
      "outputs": []
    }
  ]
}